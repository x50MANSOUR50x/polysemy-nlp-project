{
 "cells": [
  {
   "cell_type": "markdown",
   "id": "1735d701",
   "metadata": {},
   "source": [
    "# Word representation"
   ]
  },
  {
   "cell_type": "markdown",
   "id": "beb0f56a",
   "metadata": {},
   "source": [
    "📌 text representation refers to the process of converting `raw text` into a `numerical format` that machine learning models can understand and work with."
   ]
  },
  {
   "cell_type": "markdown",
   "id": "373d5ed6",
   "metadata": {},
   "source": [
    "📌 Each method offers a different perspective on how to capture the essence of text and pave the way for powerful nlp applications."
   ]
  },
  {
   "cell_type": "markdown",
   "id": "3cb81f7f",
   "metadata": {},
   "source": [
    "### One-Hot Encoding"
   ]
  },
  {
   "cell_type": "markdown",
   "id": "6404971b",
   "metadata": {},
   "source": [
    "\n",
    "📌 creates new columns for each category where 1 means the category is present and 0 means it is not."
   ]
  },
  {
   "cell_type": "markdown",
   "id": "b5abc557",
   "metadata": {},
   "source": [
    "![0QMGjp-fPYpPaE3eK.webp](data:image/webp;base64,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)"
   ]
  },
  {
   "cell_type": "code",
   "execution_count": 1,
   "id": "f150e736",
   "metadata": {},
   "outputs": [],
   "source": [
    "from sklearn.preprocessing import LabelEncoder\n",
    "from sklearn.preprocessing import OneHotEncoder"
   ]
  },
  {
   "cell_type": "markdown",
   "id": "2c3f694f",
   "metadata": {},
   "source": [
    "Categorical data to be converted to numeric data"
   ]
  },
  {
   "cell_type": "code",
   "execution_count": 2,
   "id": "af361cb4",
   "metadata": {},
   "outputs": [],
   "source": [
    "colors = ([\"red\", \"green\", \"yellow\", \"red\", \"blue\"])"
   ]
  },
  {
   "cell_type": "markdown",
   "id": "03fed763",
   "metadata": {},
   "source": [
    "integer mapping using LabelEncoder"
   ]
  },
  {
   "cell_type": "code",
   "execution_count": 3,
   "id": "f0b1b8bf",
   "metadata": {},
   "outputs": [],
   "source": [
    "label_encoder = LabelEncoder()"
   ]
  },
  {
   "cell_type": "code",
   "execution_count": 4,
   "id": "2b97e1a2",
   "metadata": {},
   "outputs": [
    {
     "data": {
      "text/plain": [
       "array([2, 1, 3, 2, 0], dtype=int64)"
      ]
     },
     "execution_count": 4,
     "metadata": {},
     "output_type": "execute_result"
    }
   ],
   "source": [
    "integer_encoded = label_encoder.fit_transform(colors)\n",
    "integer_encoded"
   ]
  },
  {
   "cell_type": "code",
   "execution_count": 5,
   "id": "0cc29a01",
   "metadata": {},
   "outputs": [
    {
     "data": {
      "text/plain": [
       "5"
      ]
     },
     "execution_count": 5,
     "metadata": {},
     "output_type": "execute_result"
    }
   ],
   "source": [
    "len(integer_encoded)"
   ]
  },
  {
   "cell_type": "code",
   "execution_count": 6,
   "id": "6f39de8c",
   "metadata": {},
   "outputs": [
    {
     "data": {
      "text/plain": [
       "array([[2],\n",
       "       [1],\n",
       "       [3],\n",
       "       [2],\n",
       "       [0]], dtype=int64)"
      ]
     },
     "execution_count": 6,
     "metadata": {},
     "output_type": "execute_result"
    }
   ],
   "source": [
    "integer_encoded = integer_encoded.reshape(len(integer_encoded), 1) # We changed the dim of the array from 1-d to 2-d because OneHotEncoder expect a 2-d array from us as and input\n",
    "integer_encoded"
   ]
  },
  {
   "cell_type": "markdown",
   "id": "028f88f1",
   "metadata": {},
   "source": [
    "One hot encoding"
   ]
  },
  {
   "cell_type": "code",
   "execution_count": 7,
   "id": "df63d70a",
   "metadata": {},
   "outputs": [
    {
     "data": {
      "text/plain": [
       "array([[0., 0., 1., 0.],\n",
       "       [0., 1., 0., 0.],\n",
       "       [0., 0., 0., 1.],\n",
       "       [0., 0., 1., 0.],\n",
       "       [1., 0., 0., 0.]])"
      ]
     },
     "execution_count": 7,
     "metadata": {},
     "output_type": "execute_result"
    }
   ],
   "source": [
    "onehot_encoder = OneHotEncoder(sparse_output=False)\n",
    "onehot_encoded = onehot_encoder.fit_transform(integer_encoded)\n",
    "onehot_encoded"
   ]
  }
 ],
 "metadata": {
  "kernelspec": {
   "display_name": "base",
   "language": "python",
   "name": "python3"
  },
  "language_info": {
   "codemirror_mode": {
    "name": "ipython",
    "version": 3
   },
   "file_extension": ".py",
   "mimetype": "text/x-python",
   "name": "python",
   "nbconvert_exporter": "python",
   "pygments_lexer": "ipython3",
   "version": "3.12.7"
  }
 },
 "nbformat": 4,
 "nbformat_minor": 5
}
